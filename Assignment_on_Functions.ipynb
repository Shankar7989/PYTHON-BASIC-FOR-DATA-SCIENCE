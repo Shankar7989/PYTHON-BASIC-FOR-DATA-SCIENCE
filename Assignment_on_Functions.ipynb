{
  "nbformat": 4,
  "nbformat_minor": 0,
  "metadata": {
    "colab": {
      "provenance": []
    },
    "kernelspec": {
      "name": "python3",
      "display_name": "Python 3"
    },
    "language_info": {
      "name": "python"
    }
  },
  "cells": [
    {
      "cell_type": "markdown",
      "source": [
        "Define a function that accepts a number and returns whether the number is even or odd."
      ],
      "metadata": {
        "id": "SA0zwy1HTiK-"
      }
    },
    {
      "cell_type": "code",
      "source": [
        "#int operator helps to accept numbers and float operator helps to accept float numbers\n",
        "#modulo operator helps to know if the number is even or odd\n",
        "def even_odd(number):\n",
        " if number % 2 == 0:\n",
        "    print('even')\n",
        " else:\n",
        "    print('odd')"
      ],
      "metadata": {
        "id": "QYp14SD5p2cw"
      },
      "execution_count": null,
      "outputs": []
    },
    {
      "cell_type": "markdown",
      "source": [
        "Define a function to create and print a list where the values are square of numbers between 1 and 30 (both included)."
      ],
      "metadata": {
        "id": "eFB9qeBSTxRd"
      }
    },
    {
      "cell_type": "code",
      "source": [
        "def print_squares():\n",
        "    squares =[i**2 for i in range(1,31)]\n",
        "    print(squares)\n"
      ],
      "metadata": {
        "id": "xoZ8le6R3zmW"
      },
      "execution_count": null,
      "outputs": []
    },
    {
      "cell_type": "markdown",
      "source": [
        "Define a function, shut_down, that takes one parameter. Then, if the shut_down function receives a value equal to \"yes\", it should print \"Shutting down\". Alternatively, if vallue is equal to \"no\", then the function should print \"Shutdown aborted\". Finally, if shut_down gets anything other than those inputs, the function should print \"Sorry\"."
      ],
      "metadata": {
        "id": "WPKsEW0dUIZF"
      }
    },
    {
      "cell_type": "code",
      "source": [
        "def shut_down(value):\n",
        " if value == \"yes\":\n",
        "        print(\"shutting down\")\n",
        " elif value == \"no\":\n",
        "        print(\"shutdown aborted\")\n",
        " else:\n",
        "        print(\"sorry\")"
      ],
      "metadata": {
        "id": "BErvgTSlp4BA"
      },
      "execution_count": null,
      "outputs": []
    },
    {
      "cell_type": "markdown",
      "source": [
        "\n",
        "\n",
        "Define a function called \"by_three\" that takes a parameter called number. If that number is divisible by 3, \"by_three\" should print the cube of the number. Otherwise, by_three should print False."
      ],
      "metadata": {
        "id": "KosfqTW8Ur_1"
      }
    },
    {
      "cell_type": "code",
      "source": [
        "def by_three(number):\n",
        "    if number % 3 == 0:\n",
        "        print(number**3)\n",
        "    else:\n",
        "        print(False)"
      ],
      "metadata": {
        "id": "ma_rcX6sp4nW"
      },
      "execution_count": null,
      "outputs": []
    },
    {
      "cell_type": "markdown",
      "source": [
        "Define a function that takes a list and prints a new list with no duplicate elements given in the first list."
      ],
      "metadata": {
        "id": "EWbQXeU5WpdZ"
      }
    },
    {
      "cell_type": "code",
      "source": [
        "my_list=[1,2,2,2,3,3,4,4,5,5,6,6,7,7]\n"
      ],
      "metadata": {
        "id": "q4Z03so4TJxC"
      },
      "execution_count": null,
      "outputs": []
    },
    {
      "cell_type": "code",
      "source": [
        "print(remove_duplicates(my_list))"
      ],
      "metadata": {
        "colab": {
          "base_uri": "https://localhost:8080/"
        },
        "id": "U1QsUM77USit",
        "outputId": "dbaf4c50-89ad-49cf-8bf9-3abf7b8680ae"
      },
      "execution_count": null,
      "outputs": [
        {
          "output_type": "stream",
          "name": "stdout",
          "text": [
            "[1, 2, 3, 4, 5, 6, 7]\n"
          ]
        }
      ]
    },
    {
      "cell_type": "code",
      "source": [
        "new_list=[1,1,2,2,3,3,4,4,5,5,7,7,8,8,9,9]"
      ],
      "metadata": {
        "id": "CrAGCyUgUhSO"
      },
      "execution_count": null,
      "outputs": []
    },
    {
      "cell_type": "code",
      "source": [
        "print(remove_duplicates(new_list))"
      ],
      "metadata": {
        "colab": {
          "base_uri": "https://localhost:8080/"
        },
        "id": "RDrR3atSUobR",
        "outputId": "fdd95293-30b6-4355-e819-30cb8c80e870"
      },
      "execution_count": null,
      "outputs": [
        {
          "output_type": "stream",
          "name": "stdout",
          "text": [
            "[1, 2, 3, 4, 5, 7, 8, 9]\n"
          ]
        }
      ]
    }
  ]
}