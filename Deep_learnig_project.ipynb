{
  "nbformat": 4,
  "nbformat_minor": 0,
  "metadata": {
    "colab": {
      "provenance": []
    },
    "kernelspec": {
      "name": "python3",
      "display_name": "Python 3"
    },
    "language_info": {
      "name": "python"
    }
  },
  "cells": [
    {
      "cell_type": "code",
      "execution_count": 1,
      "metadata": {
        "id": "bnTgzJ8dGFBo"
      },
      "outputs": [],
      "source": [
        "import nltk"
      ]
    },
    {
      "cell_type": "code",
      "source": [
        "nltk.download('popular')"
      ],
      "metadata": {
        "colab": {
          "base_uri": "https://localhost:8080/"
        },
        "id": "v94O8n8qGUmi",
        "outputId": "29f32c78-15c6-4458-e8dd-fcb99d718cc1"
      },
      "execution_count": 2,
      "outputs": [
        {
          "output_type": "stream",
          "name": "stderr",
          "text": [
            "[nltk_data] Downloading collection 'popular'\n",
            "[nltk_data]    | \n",
            "[nltk_data]    | Downloading package cmudict to /root/nltk_data...\n",
            "[nltk_data]    |   Unzipping corpora/cmudict.zip.\n",
            "[nltk_data]    | Downloading package gazetteers to /root/nltk_data...\n",
            "[nltk_data]    |   Unzipping corpora/gazetteers.zip.\n",
            "[nltk_data]    | Downloading package genesis to /root/nltk_data...\n",
            "[nltk_data]    |   Unzipping corpora/genesis.zip.\n",
            "[nltk_data]    | Downloading package gutenberg to /root/nltk_data...\n",
            "[nltk_data]    |   Unzipping corpora/gutenberg.zip.\n",
            "[nltk_data]    | Downloading package inaugural to /root/nltk_data...\n",
            "[nltk_data]    |   Unzipping corpora/inaugural.zip.\n",
            "[nltk_data]    | Downloading package movie_reviews to\n",
            "[nltk_data]    |     /root/nltk_data...\n",
            "[nltk_data]    |   Unzipping corpora/movie_reviews.zip.\n",
            "[nltk_data]    | Downloading package names to /root/nltk_data...\n",
            "[nltk_data]    |   Unzipping corpora/names.zip.\n",
            "[nltk_data]    | Downloading package shakespeare to /root/nltk_data...\n",
            "[nltk_data]    |   Unzipping corpora/shakespeare.zip.\n",
            "[nltk_data]    | Downloading package stopwords to /root/nltk_data...\n",
            "[nltk_data]    |   Unzipping corpora/stopwords.zip.\n",
            "[nltk_data]    | Downloading package treebank to /root/nltk_data...\n",
            "[nltk_data]    |   Unzipping corpora/treebank.zip.\n",
            "[nltk_data]    | Downloading package twitter_samples to\n",
            "[nltk_data]    |     /root/nltk_data...\n",
            "[nltk_data]    |   Unzipping corpora/twitter_samples.zip.\n",
            "[nltk_data]    | Downloading package omw to /root/nltk_data...\n",
            "[nltk_data]    | Downloading package omw-1.4 to /root/nltk_data...\n",
            "[nltk_data]    | Downloading package wordnet to /root/nltk_data...\n",
            "[nltk_data]    | Downloading package wordnet2021 to /root/nltk_data...\n",
            "[nltk_data]    | Downloading package wordnet31 to /root/nltk_data...\n",
            "[nltk_data]    | Downloading package wordnet_ic to /root/nltk_data...\n",
            "[nltk_data]    |   Unzipping corpora/wordnet_ic.zip.\n",
            "[nltk_data]    | Downloading package words to /root/nltk_data...\n",
            "[nltk_data]    |   Unzipping corpora/words.zip.\n",
            "[nltk_data]    | Downloading package maxent_ne_chunker to\n",
            "[nltk_data]    |     /root/nltk_data...\n",
            "[nltk_data]    |   Unzipping chunkers/maxent_ne_chunker.zip.\n",
            "[nltk_data]    | Downloading package punkt to /root/nltk_data...\n",
            "[nltk_data]    |   Unzipping tokenizers/punkt.zip.\n",
            "[nltk_data]    | Downloading package snowball_data to\n",
            "[nltk_data]    |     /root/nltk_data...\n",
            "[nltk_data]    | Downloading package averaged_perceptron_tagger to\n",
            "[nltk_data]    |     /root/nltk_data...\n",
            "[nltk_data]    |   Unzipping taggers/averaged_perceptron_tagger.zip.\n",
            "[nltk_data]    | \n",
            "[nltk_data]  Done downloading collection popular\n"
          ]
        },
        {
          "output_type": "execute_result",
          "data": {
            "text/plain": [
              "True"
            ]
          },
          "metadata": {},
          "execution_count": 2
        }
      ]
    },
    {
      "cell_type": "code",
      "source": [
        "paragraph='A proper article indicates that its noun is proper, and refers to a unique entity. It may be the name of a person, the name of a place, the name of a planet, etc. The Māori language has the proper article a, which is used for personal nouns; so, \"a Pita\" means \"Peter\". In Māori, when the personal nouns have the definite or indefinite article as an important part of it, both articles are present; for example, the phrase \"a Te Rauparaha\", which contains both the proper article a and the definite article Te refers to the person name Te Rauparaha.'\n",
        "\n"
      ],
      "metadata": {
        "id": "5vaUGkDgGb59"
      },
      "execution_count": 8,
      "outputs": []
    },
    {
      "cell_type": "code",
      "source": [
        "print(paragraph)"
      ],
      "metadata": {
        "colab": {
          "base_uri": "https://localhost:8080/"
        },
        "id": "nmQB-frtG81O",
        "outputId": "02f1a752-9910-484e-f839-bc5dffa1ff82"
      },
      "execution_count": 9,
      "outputs": [
        {
          "output_type": "stream",
          "name": "stdout",
          "text": [
            "A proper article indicates that its noun is proper, and refers to a unique entity. It may be the name of a person, the name of a place, the name of a planet, etc. The Māori language has the proper article a, which is used for personal nouns; so, \"a Pita\" means \"Peter\". In Māori, when the personal nouns have the definite or indefinite article as an important part of it, both articles are present; for example, the phrase \"a Te Rauparaha\", which contains both the proper article a and the definite article Te refers to the person name Te Rauparaha.\n"
          ]
        }
      ]
    },
    {
      "cell_type": "code",
      "source": [
        "nltk.download('punkt_tab')"
      ],
      "metadata": {
        "colab": {
          "base_uri": "https://localhost:8080/"
        },
        "id": "ziLYhnSHHwnw",
        "outputId": "ed7576cf-d050-4b13-906a-9b9a9d9796b3"
      },
      "execution_count": 11,
      "outputs": [
        {
          "output_type": "stream",
          "name": "stderr",
          "text": [
            "[nltk_data] Downloading package punkt_tab to /root/nltk_data...\n",
            "[nltk_data]   Unzipping tokenizers/punkt_tab.zip.\n"
          ]
        },
        {
          "output_type": "execute_result",
          "data": {
            "text/plain": [
              "True"
            ]
          },
          "metadata": {},
          "execution_count": 11
        }
      ]
    },
    {
      "cell_type": "code",
      "source": [
        "sentences=nltk.sent_tokenize(paragraph)"
      ],
      "metadata": {
        "id": "UZrRIKraHDEP"
      },
      "execution_count": 13,
      "outputs": []
    },
    {
      "cell_type": "code",
      "source": [
        "print(sentences)"
      ],
      "metadata": {
        "colab": {
          "base_uri": "https://localhost:8080/"
        },
        "id": "c_Wx-VkgHg2A",
        "outputId": "622df181-b42d-4c37-d0d2-9cb992703ac5"
      },
      "execution_count": 14,
      "outputs": [
        {
          "output_type": "stream",
          "name": "stdout",
          "text": [
            "['A proper article indicates that its noun is proper, and refers to a unique entity.', 'It may be the name of a person, the name of a place, the name of a planet, etc.', 'The Māori language has the proper article a, which is used for personal nouns; so, \"a Pita\" means \"Peter\".', 'In Māori, when the personal nouns have the definite or indefinite article as an important part of it, both articles are present; for example, the phrase \"a Te Rauparaha\", which contains both the proper article a and the definite article Te refers to the person name Te Rauparaha.']\n"
          ]
        }
      ]
    },
    {
      "cell_type": "code",
      "source": [
        "words=nltk.word_tokenize(paragraph)"
      ],
      "metadata": {
        "id": "vZ1cBadJIBNg"
      },
      "execution_count": 15,
      "outputs": []
    },
    {
      "cell_type": "code",
      "source": [
        "from nltk.stem import PorterStemmer\n",
        "from nltk.corpus import stopwords"
      ],
      "metadata": {
        "id": "2qyrtCkqIHq8"
      },
      "execution_count": 16,
      "outputs": []
    },
    {
      "cell_type": "code",
      "source": [
        "stopwords.words('english')\n",
        "stopwords.words('french')"
      ],
      "metadata": {
        "colab": {
          "base_uri": "https://localhost:8080/"
        },
        "id": "ldkX2NiaIS6_",
        "outputId": "7187ff1d-f4ce-4082-956c-54a9bfe3e5b2"
      },
      "execution_count": 17,
      "outputs": [
        {
          "output_type": "execute_result",
          "data": {
            "text/plain": [
              "['au',\n",
              " 'aux',\n",
              " 'avec',\n",
              " 'ce',\n",
              " 'ces',\n",
              " 'dans',\n",
              " 'de',\n",
              " 'des',\n",
              " 'du',\n",
              " 'elle',\n",
              " 'en',\n",
              " 'et',\n",
              " 'eux',\n",
              " 'il',\n",
              " 'ils',\n",
              " 'je',\n",
              " 'la',\n",
              " 'le',\n",
              " 'les',\n",
              " 'leur',\n",
              " 'lui',\n",
              " 'ma',\n",
              " 'mais',\n",
              " 'me',\n",
              " 'même',\n",
              " 'mes',\n",
              " 'moi',\n",
              " 'mon',\n",
              " 'ne',\n",
              " 'nos',\n",
              " 'notre',\n",
              " 'nous',\n",
              " 'on',\n",
              " 'ou',\n",
              " 'par',\n",
              " 'pas',\n",
              " 'pour',\n",
              " 'qu',\n",
              " 'que',\n",
              " 'qui',\n",
              " 'sa',\n",
              " 'se',\n",
              " 'ses',\n",
              " 'son',\n",
              " 'sur',\n",
              " 'ta',\n",
              " 'te',\n",
              " 'tes',\n",
              " 'toi',\n",
              " 'ton',\n",
              " 'tu',\n",
              " 'un',\n",
              " 'une',\n",
              " 'vos',\n",
              " 'votre',\n",
              " 'vous',\n",
              " 'c',\n",
              " 'd',\n",
              " 'j',\n",
              " 'l',\n",
              " 'à',\n",
              " 'm',\n",
              " 'n',\n",
              " 's',\n",
              " 't',\n",
              " 'y',\n",
              " 'été',\n",
              " 'étée',\n",
              " 'étées',\n",
              " 'étés',\n",
              " 'étant',\n",
              " 'étante',\n",
              " 'étants',\n",
              " 'étantes',\n",
              " 'suis',\n",
              " 'es',\n",
              " 'est',\n",
              " 'sommes',\n",
              " 'êtes',\n",
              " 'sont',\n",
              " 'serai',\n",
              " 'seras',\n",
              " 'sera',\n",
              " 'serons',\n",
              " 'serez',\n",
              " 'seront',\n",
              " 'serais',\n",
              " 'serait',\n",
              " 'serions',\n",
              " 'seriez',\n",
              " 'seraient',\n",
              " 'étais',\n",
              " 'était',\n",
              " 'étions',\n",
              " 'étiez',\n",
              " 'étaient',\n",
              " 'fus',\n",
              " 'fut',\n",
              " 'fûmes',\n",
              " 'fûtes',\n",
              " 'furent',\n",
              " 'sois',\n",
              " 'soit',\n",
              " 'soyons',\n",
              " 'soyez',\n",
              " 'soient',\n",
              " 'fusse',\n",
              " 'fusses',\n",
              " 'fût',\n",
              " 'fussions',\n",
              " 'fussiez',\n",
              " 'fussent',\n",
              " 'ayant',\n",
              " 'ayante',\n",
              " 'ayantes',\n",
              " 'ayants',\n",
              " 'eu',\n",
              " 'eue',\n",
              " 'eues',\n",
              " 'eus',\n",
              " 'ai',\n",
              " 'as',\n",
              " 'avons',\n",
              " 'avez',\n",
              " 'ont',\n",
              " 'aurai',\n",
              " 'auras',\n",
              " 'aura',\n",
              " 'aurons',\n",
              " 'aurez',\n",
              " 'auront',\n",
              " 'aurais',\n",
              " 'aurait',\n",
              " 'aurions',\n",
              " 'auriez',\n",
              " 'auraient',\n",
              " 'avais',\n",
              " 'avait',\n",
              " 'avions',\n",
              " 'aviez',\n",
              " 'avaient',\n",
              " 'eut',\n",
              " 'eûmes',\n",
              " 'eûtes',\n",
              " 'eurent',\n",
              " 'aie',\n",
              " 'aies',\n",
              " 'ait',\n",
              " 'ayons',\n",
              " 'ayez',\n",
              " 'aient',\n",
              " 'eusse',\n",
              " 'eusses',\n",
              " 'eût',\n",
              " 'eussions',\n",
              " 'eussiez',\n",
              " 'eussent']"
            ]
          },
          "metadata": {},
          "execution_count": 17
        }
      ]
    },
    {
      "cell_type": "code",
      "source": [
        "for i in range(len(sentences)):\n",
        "  # Create an instance of PorterStemmer and assign it to stemmer\n",
        "  stemmer = PorterStemmer()\n",
        "  word_stem = [stemmer.stem(word) for word in words if word not in set(stopwords.words('english'))]\n",
        "  sentences_stem=''.join(word_stem)\n",
        "  print(sentences_stem)"
      ],
      "metadata": {
        "colab": {
          "base_uri": "https://localhost:8080/"
        },
        "id": "wjzC_i9KJO-V",
        "outputId": "029a9f8a-d37e-4fee-d2f3-1a477fd15eae"
      },
      "execution_count": 20,
      "outputs": [
        {
          "output_type": "stream",
          "name": "stdout",
          "text": [
            "aproperarticlindicnounproper,referuniquentiti.itmaynameperson,nameplace,nameplanet,etc.themāorilanguagproperarticl,usepersonnoun;,``pita''mean``peter''.inmāori,personnoundefinitindefinitarticlimportpart,articlpresent;exampl,phrase``terauparaha'',containproperarticldefinitarticltereferpersonnameterauparaha.\n",
            "aproperarticlindicnounproper,referuniquentiti.itmaynameperson,nameplace,nameplanet,etc.themāorilanguagproperarticl,usepersonnoun;,``pita''mean``peter''.inmāori,personnoundefinitindefinitarticlimportpart,articlpresent;exampl,phrase``terauparaha'',containproperarticldefinitarticltereferpersonnameterauparaha.\n",
            "aproperarticlindicnounproper,referuniquentiti.itmaynameperson,nameplace,nameplanet,etc.themāorilanguagproperarticl,usepersonnoun;,``pita''mean``peter''.inmāori,personnoundefinitindefinitarticlimportpart,articlpresent;exampl,phrase``terauparaha'',containproperarticldefinitarticltereferpersonnameterauparaha.\n",
            "aproperarticlindicnounproper,referuniquentiti.itmaynameperson,nameplace,nameplanet,etc.themāorilanguagproperarticl,usepersonnoun;,``pita''mean``peter''.inmāori,personnoundefinitindefinitarticlimportpart,articlpresent;exampl,phrase``terauparaha'',containproperarticldefinitarticltereferpersonnameterauparaha.\n"
          ]
        }
      ]
    },
    {
      "cell_type": "code",
      "source": [
        "from nltk import WordNetLemmatizer\n",
        "a=WordNetLemmatizer()"
      ],
      "metadata": {
        "id": "JTQAohcRJSYV"
      },
      "execution_count": 23,
      "outputs": []
    },
    {
      "cell_type": "code",
      "source": [
        "for i in range(len(sentences)):\n",
        "  word_lem=[a.lemmatize(word)for word in words if word not in set(stopwords.words('english'))]\n",
        "  sentences_lem=''.join(word_lem)\n",
        "  print(sentences_lem)"
      ],
      "metadata": {
        "colab": {
          "base_uri": "https://localhost:8080/"
        },
        "id": "GLi17NSmJnNX",
        "outputId": "973ab2bf-25e8-46f4-e061-64337b48a0cb"
      },
      "execution_count": 25,
      "outputs": [
        {
          "output_type": "stream",
          "name": "stdout",
          "text": [
            "Aproperarticleindicatesnounproper,refersuniqueentity.Itmaynameperson,nameplace,nameplanet,etc.TheMāorilanguageproperarticle,usedpersonalnoun;,``Pita''mean``Peter''.InMāori,personalnoundefiniteindefinitearticleimportantpart,articlepresent;example,phrase``TeRauparaha'',containsproperarticledefinitearticleTereferspersonnameTeRauparaha.\n",
            "Aproperarticleindicatesnounproper,refersuniqueentity.Itmaynameperson,nameplace,nameplanet,etc.TheMāorilanguageproperarticle,usedpersonalnoun;,``Pita''mean``Peter''.InMāori,personalnoundefiniteindefinitearticleimportantpart,articlepresent;example,phrase``TeRauparaha'',containsproperarticledefinitearticleTereferspersonnameTeRauparaha.\n",
            "Aproperarticleindicatesnounproper,refersuniqueentity.Itmaynameperson,nameplace,nameplanet,etc.TheMāorilanguageproperarticle,usedpersonalnoun;,``Pita''mean``Peter''.InMāori,personalnoundefiniteindefinitearticleimportantpart,articlepresent;example,phrase``TeRauparaha'',containsproperarticledefinitearticleTereferspersonnameTeRauparaha.\n",
            "Aproperarticleindicatesnounproper,refersuniqueentity.Itmaynameperson,nameplace,nameplanet,etc.TheMāorilanguageproperarticle,usedpersonalnoun;,``Pita''mean``Peter''.InMāori,personalnoundefiniteindefinitearticleimportantpart,articlepresent;example,phrase``TeRauparaha'',containsproperarticledefinitearticleTereferspersonnameTeRauparaha.\n"
          ]
        }
      ]
    },
    {
      "cell_type": "code",
      "source": [],
      "metadata": {
        "id": "hJnThT5jKN8J"
      },
      "execution_count": null,
      "outputs": []
    }
  ]
}