{
  "nbformat": 4,
  "nbformat_minor": 0,
  "metadata": {
    "colab": {
      "provenance": []
    },
    "kernelspec": {
      "name": "python3",
      "display_name": "Python 3"
    },
    "language_info": {
      "name": "python"
    }
  },
  "cells": [
    {
      "cell_type": "markdown",
      "source": [
        "Write a program which accepts month's name as input and display the number of days in the month as output"
      ],
      "metadata": {
        "id": "MdAkQQ_Y4wwG"
      }
    },
    {
      "cell_type": "code",
      "source": [
        "a=input('enter the name of the month')\n",
        "if a=='january':\n",
        "  print('31 days')\n",
        "elif a in ('march','april','may','june','july','august','september','october','novmber','december'):\n",
        "  print('30days')\n",
        "else:\n",
        "  print('28days')\n",
        ""
      ],
      "metadata": {
        "id": "5CHcmXp1CKEa",
        "colab": {
          "base_uri": "https://localhost:8080/"
        },
        "outputId": "f16ba188-120b-4c24-a671-84de0a4c77d7"
      },
      "execution_count": 4,
      "outputs": [
        {
          "output_type": "stream",
          "name": "stdout",
          "text": [
            "enter the name of the monthfeb\n",
            "28days\n"
          ]
        }
      ]
    },
    {
      "cell_type": "markdown",
      "source": [
        "Take any word as input from the user and count the number of vowels in the word"
      ],
      "metadata": {
        "id": "Q8cCBC198J6M"
      }
    },
    {
      "cell_type": "code",
      "source": [
        "a=input('enter the word')\n",
        "count=0\n",
        "for i in a:\n",
        "    if i in('a','e','i','o','u'):\n",
        "        count+=1\n",
        "        print(count)"
      ],
      "metadata": {
        "id": "fCmmgoZfCKga",
        "colab": {
          "base_uri": "https://localhost:8080/"
        },
        "outputId": "93c83aa1-a58c-44a2-e5ed-5558d8735ac9"
      },
      "execution_count": 5,
      "outputs": [
        {
          "output_type": "stream",
          "name": "stdout",
          "text": [
            "enter the wordravi\n",
            "1\n",
            "2\n"
          ]
        }
      ]
    },
    {
      "cell_type": "markdown",
      "source": [
        "Write a program to separate even and odd numbers in two distinct lists from a list of numbers of your choice"
      ],
      "metadata": {
        "id": "1ugWwVXd49OI"
      }
    },
    {
      "cell_type": "code",
      "source": [
        "numbers = [1, 2, 3, 4, 5, 6, 7, 8, 9, 10]  # Your list of numbers\n",
        "even_numbers = []\n",
        "odd_numbers = []\n",
        "\n",
        "for number in numbers:\n",
        "    if number % 2 == 0:\n",
        "        even_numbers.append(number)\n",
        "    else:\n",
        "        odd_numbers.append(number)\n",
        "\n",
        "print(\"Even numbers:\", even_numbers)\n",
        "print(\"Odd numbers:\", odd_numbers)"
      ],
      "metadata": {
        "id": "p0MPJzU6CK6f",
        "colab": {
          "base_uri": "https://localhost:8080/"
        },
        "outputId": "898d62c0-2b41-4191-e4bf-f6268fc77559"
      },
      "execution_count": 6,
      "outputs": [
        {
          "output_type": "stream",
          "name": "stdout",
          "text": [
            "Even numbers: [2, 4, 6, 8, 10]\n",
            "Odd numbers: [1, 3, 5, 7, 9]\n"
          ]
        }
      ]
    },
    {
      "cell_type": "markdown",
      "source": [
        "Write a program that appends datatype of elements from a list to a separate list"
      ],
      "metadata": {
        "id": "uaqnGrhs49Mf"
      }
    },
    {
      "cell_type": "code",
      "source": [
        "my_list = [1, 'hello', 3.14, True, [1, 2, 3]]\n",
        "data_types = []\n",
        "\n",
        "for item in my_list:\n",
        "    data_types.append(type(item))\n",
        "\n",
        "print(\"Original list:\", my_list)\n",
        "print(\"Datatypes list:\", data_types)"
      ],
      "metadata": {
        "id": "ypNro7WSCLX7",
        "colab": {
          "base_uri": "https://localhost:8080/"
        },
        "outputId": "687a98c3-a0d0-4178-f1aa-2d8fae2791f6"
      },
      "execution_count": 7,
      "outputs": [
        {
          "output_type": "stream",
          "name": "stdout",
          "text": [
            "Original list: [1, 'hello', 3.14, True, [1, 2, 3]]\n",
            "Datatypes list: [<class 'int'>, <class 'str'>, <class 'float'>, <class 'bool'>, <class 'list'>]\n"
          ]
        }
      ]
    },
    {
      "cell_type": "markdown",
      "source": [
        "Write a program to display only those numbers from a list that satisfies the following conditions:\n",
        "\n",
        "1. The number must be divisible by 7\n",
        "\n",
        "2. If the number is 140 then skip it and move to the next number in the list\n",
        "\n",
        "3. If the number in the list is greater than 630 then stop the loop"
      ],
      "metadata": {
        "id": "ddMu0Pj1643Y"
      }
    },
    {
      "cell_type": "code",
      "source": [
        "numbers = [7, 14, 140, 21, 280, 350, 630, 700, 840]\n",
        "\n",
        "for number in numbers:\n",
        "    if number > 630:\n",
        "        break  # Stop the loop if number is greater than 630\n",
        "    if number == 140:\n",
        "        continue  # Skip to the next number if it's 140\n",
        "    if number % 7 == 0:\n",
        "        print(number)  # Print the number if it's divisible by 7"
      ],
      "metadata": {
        "id": "230Qc9UHTK5-",
        "colab": {
          "base_uri": "https://localhost:8080/"
        },
        "outputId": "682204c9-2748-4992-b765-bae2174ab858"
      },
      "execution_count": 8,
      "outputs": [
        {
          "output_type": "stream",
          "name": "stdout",
          "text": [
            "7\n",
            "14\n",
            "21\n",
            "280\n",
            "350\n",
            "630\n"
          ]
        }
      ]
    }
  ]
}