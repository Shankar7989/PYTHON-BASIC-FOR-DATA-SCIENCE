{
  "cells": [
    {
      "cell_type": "markdown",
      "metadata": {
        "id": "AcR_27Hh5QTe"
      },
      "source": [
        "Take three numbers 'x', 'y' and 'z' as input from the user and check which number is greater\n"
      ]
    },
    {
      "cell_type": "code",
      "execution_count": null,
      "metadata": {
        "id": "ZqmjTxbD5QG4",
        "colab": {
          "base_uri": "https://localhost:8080/"
        },
        "outputId": "e62ebbc4-c484-4b93-9ace-554218035da8"
      },
      "outputs": [
        {
          "output_type": "stream",
          "name": "stdout",
          "text": [
            "enter the first number 6\n",
            "enter the second number9\n",
            "enter the third number8\n",
            "y is greater than z\n"
          ]
        }
      ],
      "source": [
        "x=float(input(\"enter the first number \"))\n",
        "y=float(input(\"enter the second number\"))\n",
        "z=float(input(\"enter the third number\"))\n",
        "if x>y:\n",
        "    print(\"x is greater then y\")\n",
        "else:\n",
        "    print(\"y is greater than z\")\n",
        "\n",
        "\n"
      ]
    },
    {
      "cell_type": "markdown",
      "metadata": {
        "id": "QgkCsQlx4c5Y"
      },
      "source": [
        "Take an alphabet as input from the user and check if the alphabet is a vowel, consonant or an exception\n",
        "\n",
        "\n",
        "Vowel - 'a','e','i','o','u'\n",
        "\n",
        "Exception - 'h', 'y'\n",
        "\n",
        "Consonant - rest other alphabets"
      ]
    },
    {
      "cell_type": "markdown",
      "metadata": {
        "id": "5TqcIsuG4N4x"
      },
      "source": [
        "Write a program to check whether a number given by a user is divisible by 2 and 3 both"
      ]
    },
    {
      "cell_type": "code",
      "execution_count": null,
      "metadata": {
        "id": "1TobEmuY4NkT",
        "colab": {
          "base_uri": "https://localhost:8080/"
        },
        "outputId": "083cfbad-90c3-4e37-9432-07ae73e57d3a"
      },
      "outputs": [
        {
          "output_type": "stream",
          "name": "stdout",
          "text": [
            "enter the alphabets5\n",
            "v rest consonets\n"
          ]
        }
      ],
      "source": [
        "v=input(\"enter the alphabets\")\n",
        "if v==\"a\" or v==\"e\" or v==\"i\" or v==\"o\" or v==\"u\":\n",
        "    print(\"vowels\")\n",
        "elif v==\"h\" or v==\"y\":\n",
        "      print(\"exception\")\n",
        "else:\n",
        "      print(\"v rest consonets\")"
      ]
    },
    {
      "cell_type": "markdown",
      "metadata": {
        "id": "Vl0l7eM93o-k"
      },
      "source": [
        "Write a program to accept the cost price  of a bike as input and display the road tax to be paid according to the following crieteria :-\n",
        "\n",
        "Cost price - 100000 Tax - 15%\n",
        "\n",
        "Cost price - between 50000 to 100000 Tax - 10%\n",
        "\n",
        "Cost price - less than 50000 Tax - 5%"
      ]
    },
    {
      "cell_type": "code",
      "source": [
        "P=int(input(\"enter the cost price\"))\n",
        "if P>=100000:\n",
        "    print(\"road tax is 15%\")\n",
        "elif P>=50000:\n",
        "    print(\"road tax is 10%\")\n",
        "else:\n",
        "    print(\"road tax is 5%\")"
      ],
      "metadata": {
        "colab": {
          "base_uri": "https://localhost:8080/"
        },
        "id": "w3mXm-3VY6jL",
        "outputId": "97ecebe9-3af4-41f0-e32c-42b8ed8dcf1d"
      },
      "execution_count": null,
      "outputs": [
        {
          "output_type": "stream",
          "name": "stdout",
          "text": [
            "enter the cost price90\n",
            "road tax is 5%\n"
          ]
        }
      ]
    },
    {
      "cell_type": "markdown",
      "metadata": {
        "id": "4qwB-dyV2vdv"
      },
      "source": [
        "Write a program to calculate the electricity bill by accepting the number of units consumed by the user as input. Use the following price chart for reference :-\n",
        "\n",
        "Price of first 100 units - no charge\n",
        "\n",
        "Price of next 100 units - Rs 5/- per unit\n",
        "\n",
        "After 200 units - Rs 10/- per unit"
      ]
    },
    {
      "cell_type": "code",
      "execution_count": null,
      "metadata": {
        "id": "9CRK7oBa2rjP",
        "colab": {
          "base_uri": "https://localhost:8080/"
        },
        "outputId": "4bcfef2e-9fa8-422a-8436-c6006fe373bb"
      },
      "outputs": [
        {
          "output_type": "stream",
          "name": "stdout",
          "text": [
            "enter the number of units consumed90\n",
            "no charge\n"
          ]
        }
      ],
      "source": [
        "p=int(input(\"enter the number of units consumed\"))\n",
        "if p<=100:\n",
        "    print(\"no charge\")\n",
        "elif p<=200:\n",
        "    print(\"5% charge\")\n",
        "else:\n",
        "    print(\"10 rs per unit\")"
      ]
    }
  ],
  "metadata": {
    "colab": {
      "provenance": []
    },
    "kernelspec": {
      "display_name": "Python 3",
      "name": "python3"
    },
    "language_info": {
      "name": "python"
    }
  },
  "nbformat": 4,
  "nbformat_minor": 0
}